{
 "cells": [
  {
   "cell_type": "markdown",
   "metadata": {},
   "source": [
    "# Twitter Text Content Analysis"
   ]
  },
  {
   "cell_type": "markdown",
   "metadata": {},
   "source": [
    "## 1. Initialize a spark context"
   ]
  },
  {
   "cell_type": "code",
   "execution_count": 1,
   "metadata": {
    "scrolled": true
   },
   "outputs": [
    {
     "name": "stdout",
     "output_type": "stream",
     "text": [
      "Pixiedust database opened successfully\n"
     ]
    },
    {
     "data": {
      "text/html": [
       "\n",
       "        <div style=\"margin:10px\">\n",
       "            <a href=\"https://github.com/ibm-watson-data-lab/pixiedust\" target=\"_new\">\n",
       "                <img src=\"https://github.com/ibm-watson-data-lab/pixiedust/raw/master/docs/_static/pd_icon32.png\" style=\"float:left;margin-right:10px\"/>\n",
       "            </a>\n",
       "            <span>Pixiedust version 1.1.1</span>\n",
       "        </div>\n",
       "        "
      ],
      "text/plain": [
       "<IPython.core.display.HTML object>"
      ]
     },
     "metadata": {},
     "output_type": "display_data"
    },
    {
     "name": "stdout",
     "output_type": "stream",
     "text": [
      "Unable to check latest version <urlopen error [Errno -3] Temporary failure in name resolution>\n",
      "Succesfully enabled Spark Job Progress Monitor\n"
     ]
    },
    {
     "data": {
      "text/html": [
       "\n",
       "        <div>\n",
       "            <p><b>SparkContext</b></p>\n",
       "\n",
       "            <p><a href=\"http://127.0.0.1:4040\">Spark UI</a></p>\n",
       "\n",
       "            <dl>\n",
       "              <dt>Version</dt>\n",
       "                <dd><code>v2.2.0</code></dd>\n",
       "              <dt>Master</dt>\n",
       "                <dd><code>local[10]</code></dd>\n",
       "              <dt>AppName</dt>\n",
       "                <dd><code>pyspark-shell</code></dd>\n",
       "            </dl>\n",
       "        </div>\n",
       "        "
      ],
      "text/plain": [
       "<SparkContext master=local[10] appName=pyspark-shell>"
      ]
     },
     "execution_count": 1,
     "metadata": {},
     "output_type": "execute_result"
    }
   ],
   "source": [
    "import pixiedust\n",
    "pixiedust.enableJobMonitor()\n",
    "sc = pixiedust.sc\n",
    "sc"
   ]
  },
  {
   "cell_type": "markdown",
   "metadata": {},
   "source": [
    "## 2. Load the data, process it and compute the similarity vectors between the tweets"
   ]
  },
  {
   "cell_type": "code",
   "execution_count": 75,
   "metadata": {},
   "outputs": [
    {
     "name": "stdout",
     "output_type": "stream",
     "text": [
      "total words: 6976 , unique words: 1874 , number of tweets: 750\n"
     ]
    }
   ],
   "source": [
    "import csv\n",
    "import requests,os,re\n",
    "import pandas as pd\n",
    "from itertools import groupby\n",
    "from math import log10, sqrt\n",
    "from pyspark.mllib.clustering import KMeans, KMeansModel\n",
    "from pyspark.ml.linalg import Vectors\n",
    "from numpy import array, dot, isnan\n",
    "from numpy.linalg import norm\n",
    "\n",
    "\n",
    "#1 Download the data from the dropbox link\n",
    "def download_file(url, location):\n",
    "    filename = os.path.join(location, url.split(\"/\")[-1].split(\"?\")[0])\n",
    "    r = requests.get(url, stream=True)\n",
    "    with open(filename, 'wb') as f:\n",
    "        for chunk in r.iter_content(chunk_size=1024): \n",
    "            if chunk: \n",
    "                f.write(chunk)\n",
    "    return filename\n",
    "\n",
    "url = \"https://www.dropbox.com/s/jsoi0v9rb52w6du/pd_tweets_df.csv?dl=1\"\n",
    "location = ''\n",
    "#2 file = download_file(url, location)\n",
    "file = 'pd_tweets_df.csv'\n",
    "\n",
    "#3 Load the csv data as a panda dataframe\n",
    "tweets_df = pd.read_csv(location + file)\n",
    "\n",
    "#4 Create rdd of the text of every tweet\n",
    "tweetrdd =  sc.parallelize(tweets_df['text:'], 10)\\\n",
    "              .filter(lambda x: type(x) == str)\\\n",
    "              .map(lambda tweet: re.sub(('\\n'), '', tweet))\\\n",
    "              .map(lambda tweet: tweet.split(' @ ', )[0])\\\n",
    "              .map(lambda tweetwords: re.sub('https?', '', tweetwords))\\\n",
    "\n",
    "#5 Set the n_oftweets to analyze and create a subset rdd out of the original tweet texts\n",
    "n_oftweets = 750\n",
    "tweetrddsubset = sc.parallelize(tweetrdd.take(n_oftweets))\n",
    "\n",
    "#6 Partition the tweetrdd into a list of words per individual tweet and filter out the special characters&stopwords\n",
    "stopwords = [\"ourselves\", \"hers\", \"between\", \"yourself\", \"but\", \"again\", \"there\", \"about\", \"once\", \"during\", \"out\", \"very\", \"having\", \"with\", \"they\", \"own\", \"an\", \"be\", \"some\", \"for\", \"do\", \"its\", \"yours\", \"such\", \"into\", \"of\", \"most\", \"itself\", \"other\", \"off\", \"is\", \"s\", \"am\", \"or\", \"who\", \"as\", \"from\", \"him\", \"each\", \"the\", \"themselves\", \"until\", \"below\", \"are\", \"we\", \"these\", \"your\", \"his\", \"through\", \"don\", \"nor\", \"me\", \"were\", \"her\", \"more\", \"himself\", \"this\", \"down\", \"should\", \"our\", \"their\", \"while\", \"above\", \"both\", \"up\", \"to\", \"ours\", \"had\", \"she\", \"all\", \"no\", \"when\", \"at\", \"any\", \"before\", \"them\", \"same\", \"and\", \"been\", \"have\", \"in\", \"will\", \"on\", \"does\", \"yourselves\", \"then\", \"that\", \"because\", \"what\", \"over\", \"why\", \"so\", \"can\", \"did\", \"not\", \"now\", \"under\", \"he\", \"you\", \"herself\", \"has\", \"just\", \"where\", \"too\", \"only\", \"myself\", \"which\", \"those\", \"i\", \"after\", \"few\", \"whom\", \"t\", \"being\", \"if\", \"theirs\", \"my\", \"against\", \"a\", \"by\", \"doing\", \"it\", \"how\", \"further\", \"was\", \"here\", \"than\"]\n",
    "wordrdd_tweet = tweetrddsubset.map(lambda line: [re.findall('\\w*', word.lower())[0] for word in line.split(' ')] )\\\n",
    "                        .map(lambda tweet: list(filter(lambda tweet: tweet is not '', tweet)))\\\n",
    "                        .map(lambda wordlist: [word for word in wordlist if word not in stopwords])\n",
    "            \n",
    "#7 Costruct the rdd of all words of all tweets together\n",
    "wordrdd = tweetrddsubset.flatMap(lambda line: line.split())\\\n",
    "                  .map(lambda word: word.lower())\\\n",
    "                  .map(lambda word: re.findall('\\w*' , word)[0])\\\n",
    "                  .filter(lambda word: word is not '')\n",
    "\n",
    "#8 count the number of words as a summary statistic\n",
    "total_wordcount = wordrdd.count()\n",
    "\n",
    "#9 Count the number of times the word repeats within the same tweet for all tweets\n",
    "countedwordpairrdd_tweet = wordrdd_tweet.map(lambda tweet: sorted(tweet))\\\n",
    "                                    .map(lambda tweetsorted: [(word,len(list(n))) for word,n in groupby(tweetsorted)])\n",
    "\n",
    "#10 Calculate the term frequency (TF) per tweet as RDD \n",
    "tf_tweet = countedwordpairrdd_tweet.map(lambda wordpair: [(word, n/len(wordpair)) for word, n in wordpair])\n",
    "\n",
    "#11 Create a unique word rdd and count the number of words as a summary statistic\n",
    "wordrdd_unique = wordrdd.map(lambda word: (word,1))\\\n",
    "                        .reduceByKey(lambda key, next_key : key + next_key)\\\n",
    "                        .map(lambda wordpair: wordpair[0])\n",
    "\n",
    "n_uniquewords = wordrdd_unique.count()\n",
    "\n",
    "#12 Convert&collect uniquewordrdd to K-V pair list with zeros to append to every tweet to equalize tweetsize later on\n",
    "uniquewordvector_withzeros = wordrdd_unique.map(lambda word: (word, 0)).collect()\n",
    "\n",
    "#13 Remove duplicate words per tweet and count total number of tweets each word occurs in\n",
    "idf  = countedwordpairrdd_tweet.map(lambda tweet: [(word, 1) for word,n in tweet])\\\n",
    "                               .flatMap(lambda tweet: tweet)\\\n",
    "                               .reduceByKey(lambda value_so_far, next_value : value_so_far + next_value)\\\n",
    "                               .map(lambda wordpair: (wordpair[0], log10(n_oftweets/wordpair[1])))              \n",
    "\n",
    "#14 Collect the IDF of all unique words as a dictionary\n",
    "idfdict = idf.collectAsMap()\n",
    "\n",
    "#15 Create TFIDF by multiplying TF of every word per tweet with the lookedup IDF value from the IDF dictionary above\n",
    "tfidf_word_tweet = tf_tweet.map(lambda wordpair: [ (word, tf*idfdict[word]) for word,tf in wordpair ] )\n",
    "\n",
    "#16 Equalize every tweet's length by inserting missing unique wordpairs created in step #12, zip result with index\n",
    "total_indexedtfidfmatrix = tfidf_word_tweet.map(lambda tweetwordpairs: tweetwordpairs + list(filter(lambda word: word[0] not in [word for word, tfidf in tweetwordpairs], uniquewordvector_withzeros)))\\\n",
    "                                           .map(lambda tweet: sorted(tweet, key=lambda x: x[0]))\\\n",
    "                                           .map(lambda wordvector: [tfidf for word, tfidf in wordvector])\\\n",
    "                                           .map(lambda tfidfvector: Vectors.dense([tfidf for tfidf in tfidfvector]))\\\n",
    "                                           .zipWithIndex()      \n",
    "\n",
    "# 17 Create a matrix that uses the cartesian product between every tweet to construct tweet comparison containers.\n",
    "# Then compute the cosine dissimilarity between every such container to get a measure of distance between each tweet \n",
    "dissimilarity_rdd = total_indexedtfidfmatrix.cartesian(total_indexedtfidfmatrix)\\\n",
    "                                            .sortBy(lambda pairof_vectorindexpairs: (pairof_vectorindexpairs[0][1],  pairof_vectorindexpairs[1][1]) )\\\n",
    "                                            .map(lambda pairof_vectorindexpairs: (1-(pairof_vectorindexpairs[0][0].dot(pairof_vectorindexpairs[1][0])/(pairof_vectorindexpairs[0][0].norm(2)*pairof_vectorindexpairs[1][0].norm(2))),  (pairof_vectorindexpairs[0][1], pairof_vectorindexpairs[1][1]) ))\\\n",
    "                                            .map(lambda tweetsimilaritypair: (1.0, tweetsimilaritypair[1]) if isnan(tweetsimilaritypair[0]) else tweetsimilaritypair)\n",
    "\n",
    "# 18 Compartamentalize every entry of the dissimilarityrdd per tweet to construct indexed matrix that compares each                   \n",
    "# tweet with every other tweet (watch out this results in a very LARGE MATRIX!)\n",
    "dissimilarity_matrix = dissimilarity_rdd.groupBy(lambda x: x[1][0])\\\n",
    "                                        .map(lambda tweetvsrest: list(tweetvsrest[1]))\n",
    "    \n",
    "    \n",
    "# Print summary of totals with line below\n",
    "print('total words:', total_wordcount, ', unique words:', n_uniquewords, ', number of tweets:', n_oftweets)"
   ]
  },
  {
   "cell_type": "markdown",
   "metadata": {},
   "source": [
    "## 3. Cluster and plot the tweet similarity vector matrix with K-Means with different parameters"
   ]
  },
  {
   "cell_type": "code",
   "execution_count": 76,
   "metadata": {
    "scrolled": true
   },
   "outputs": [
    {
     "data": {
      "image/png": "[encoded data removed]",
      "text/plain": [
       "<matplotlib.figure.Figure at 0x7fefdee999e8>"
      ]
     },
     "metadata": {},
     "output_type": "display_data"
    }
   ],
   "source": [
    "import matplotlib.pyplot as plt\n",
    "import random\n",
    "from pyspark.mllib.clustering import KMeans, KMeansModel\n",
    "# Build the model (cluster the data)\n",
    "#1 Load Data \n",
    "Data = dissimilarity_matrix.map(lambda similarityvector: array([similarityentry[0] for similarityentry in similarityvector]))\n",
    "\n",
    "#2 Fit model with different cluster sizes and compute the costs\n",
    "WSSE_all = []\n",
    "k = range(2,14,2)\n",
    "\n",
    "# Function used in calculating costs by computing Within Set Sum of Squared Errors\n",
    "def error(point):\n",
    "    center = model.centers[model.predict(point)]\n",
    "    return sqrt(sum([x**2 for x in (point - center)]))\n",
    "\n",
    "for i in k:\n",
    "    model = KMeans.train(Data, i, maxIterations=15, initializationMode=\"k-means\")\n",
    "    WSSE = Data.map(lambda point: error(point)).reduce(lambda x, y: x + y)\n",
    "    WSSE_all = WSSE_all+[WSSE]\n",
    "\n",
    "#3 Plot the results\n",
    "plt.plot(k,WSSE_all)\n",
    "plt.ylabel('WSSE')\n",
    "plt.xlabel('K-cluster')\n",
    "plt.show()\n",
    "\n",
    "\n"
   ]
  },
  {
   "cell_type": "markdown",
   "metadata": {},
   "source": [
    "## 4. Find optimal model (experimental)"
   ]
  },
  {
   "cell_type": "code",
   "execution_count": 77,
   "metadata": {
    "scrolled": true
   },
   "outputs": [
    {
     "name": "stdout",
     "output_type": "stream",
     "text": [
      "perfect k is : 6\n",
      "WSSE =  766.1526337630685\n"
     ]
    }
   ],
   "source": [
    "#4 Calculate optimal k by setting the cost threshold as low as possible\n",
    "threshold = 15\n",
    "\n",
    "#index = []\n",
    "#for i in range(len(WSSE_all)-1):\n",
    "#    if (WSSE_all[i]-WSSE_all[i+1]) < threshold:\n",
    "#        index +=[i]\n",
    "#    index_final = index[0]\n",
    "#k_final = k[index_final]\n",
    "\n",
    "k_final = 6\n",
    "\n",
    "print('perfect k is :',k_final)\n",
    "\n",
    "final_model = KMeans.train(Data, k_final, maxIterations=15, initializationMode=\"k-means\")\n",
    "centers = final_model.centers\n",
    "WSSEfinal = Data.map(lambda point: error(point)).reduce(lambda x, y: x + y)\n",
    "\n",
    "# Print the final result\n",
    "print('WSSE = ', WSSEfinal)"
   ]
  },
  {
   "cell_type": "markdown",
   "metadata": {},
   "source": [
    "## 5. Couple all tweets with cluster and analyze the TFIDF for every word that falls in a cluster. Then, retrieve the top 10 distinctive words for each cluster."
   ]
  },
  {
   "cell_type": "code",
   "execution_count": 95,
   "metadata": {
    "scrolled": true
   },
   "outputs": [
    {
     "name": "stdout",
     "output_type": "stream",
     "text": [
      "Most representative words for each cluster with TFIDF:\n",
      "0 ['co', 'colorado', 'day', 'love', 'inch', 'like', 'reports', 'get', 'one', 'new']\n",
      "1 ['co', 'rain', '8', 'heavy', 'beautiful', 'one', '2005', 'absolute', 'arrowhead', 'binghi']\n",
      "2 ['stay', 'view', 'driving', 'colorado', 'mountain', 'posted', '8th', 'ancient', 'apparel', 'backyard']\n",
      "3 ['today', 'see', 'work', 'kingdom', 'wazdown', 'rest', 'beauty', 'tour', 'good', 'start']\n",
      "4 ['made', 'anejo', 'baxendale', 'bella', 'blueskyhomegroup8187', 'career', 'chillaxing', 'estate', 'extra', 'golden']\n",
      "5 ['favorite', 'watching', 'yet', 'co', 'great', 'back', 'morning', 'new', 'andrews', 'beneficial']\n",
      "\n",
      "\n",
      "Most representative words for each cluster with TF:\n",
      "0 ['co', 'colorado', 'day', 'inch', 'like', 'love', 'reports', 'get', 'one', 'beautiful']\n",
      "1 ['co', '8', 'beautiful', 'heavy', 'inch', 'one', 'rain', 'reports', '0', '2']\n",
      "2 ['colorado', 'driving', 'mountain', 'photo', 'posted', 'stay', 'view', '6', '7', '8th']\n",
      "3 ['today', 'good', 'kingdom', 'rest', 'see', 'wazdown', 'work', 'another', 'beauty', 'colorado']\n",
      "4 ['made', 'photo', 'adventurous', 'anejo', 'around', 'back', 'baxendale', 'bella', 'blueskyhomegroup8187', 'career']\n",
      "5 ['co', 'favorite', 'back', 'great', 'morning', 'new', 'watching', 'yet', '0', '13']\n"
     ]
    }
   ],
   "source": [
    "# 0 Create tweetclusterindices\n",
    "tweetclusterindices = Data.zipWithIndex()\\\n",
    "                          .map(lambda pair: (pair[1], final_model.predict(pair[0])))\\\n",
    "                          .collect()\n",
    "\n",
    "# 1 Merge all tweets in cluster\n",
    "words_clusterrdd = wordrdd_tweet.map(lambda cluster: ' '.join(cluster))\\\n",
    "                                 .zipWithIndex()\\\n",
    "                                 .map(lambda pair: (pair[0], tweetclusterindices[pair[1]]))\\\n",
    "                                 .map(lambda pair: (pair[0], pair[1][1]))\\\n",
    "                                 .groupBy(lambda pair: pair[1])\\\n",
    "                                 .map(lambda pair: list(pair[1]))\\\n",
    "                                 .map(lambda cluster: [pair[0] for pair in cluster])\\\n",
    "                                 .map(lambda cluster: [' '.join(cluster)])\\\n",
    "                                 .map(lambda cluster: cluster[0].split())\n",
    "# 2 Count word pair                                  \n",
    "countedwordpairrdd_cluster = words_clusterrdd.map(lambda tweet: sorted(tweet))\\\n",
    "                                    .map(lambda tweetsorted: [(word,len(list(n))) for word,n in groupby(tweetsorted)])\n",
    "\n",
    "#3 Calculate the term frequency (TF) per cluster\n",
    "tf_cluster = countedwordpairrdd_cluster.map(lambda wordpair: [(word, n/len(wordpair)) for word, n in wordpair])\n",
    "\n",
    "#4 Remove duplicate words per cluster and count total number of clusters each word occurs in\n",
    "idf_cluster  = countedwordpairrdd_cluster.map(lambda tweet: [(word, 1) for word,n in tweet])\\\n",
    "                               .flatMap(lambda tweet: tweet)\\\n",
    "                               .reduceByKey(lambda value_so_far, next_value : value_so_far + next_value)\\\n",
    "                               .map(lambda wordpair: (wordpair[0], log10(k_final/wordpair[1]))) \n",
    "\n",
    "#5 Collect the IDF of all unique words as a dictionary\n",
    "idfdictcluster = idf.collectAsMap()\n",
    "\n",
    "#6 Create TFIDF by multiplying TF of every word per cluster with the IDF value from the IDF dictionary above\n",
    "tfidf_word_cluster = tf_cluster.map(lambda wordpair: [ (word, tf*idfdictcluster[word]) for word,tf in wordpair ] )\n",
    "\n",
    "#7 Get representatitve words per cluster (tf and tfidf)\n",
    "sortedtfidf_word_cluster = tfidf_word_cluster.map(lambda cluster: [b for a,b in sorted((-tup[1], tup) for tup in cluster)] )\n",
    "sortedtf_word_cluster = tf_cluster.map(lambda cluster: [b for a,b in sorted((-tup[1], tup) for tup in cluster)] )\n",
    "\n",
    "#8 Get representatitve words per cluster\n",
    "tfidf_representative_words_cluster = [sortedtfidf_word_cluster.collect()[index][:10] for index in range(k_final)]\n",
    "toptfidf_representative_words_cluster = list(map(lambda x: [y[0] for y  in x], tfidf_representative_words_cluster))\n",
    "\n",
    "tf_representative_words_cluster = [sortedtf_word_cluster.collect()[index][:10] for index in range(k_final)]\n",
    "toptf_representative_words_cluster = list(map(lambda x: [y[0] for y  in x], tf_representative_words_cluster))\n",
    "\n",
    "print('Most representative words for each cluster with TFIDF:')\n",
    "number = 0\n",
    "for cluster in toptfidf_representative_words_cluster:\n",
    "    print (number, cluster)\n",
    "    number += 1\n",
    "\n",
    "print('\\n')\n",
    "    \n",
    "print('Most representative words for each cluster with TF:')\n",
    "number2 = 0\n",
    "for cluster in toptf_representative_words_cluster:\n",
    "    print (number2, cluster)\n",
    "    number2 += 1"
   ]
  },
  {
   "cell_type": "markdown",
   "metadata": {},
   "source": [
    "## 6. Create a Histogram of all the clusters"
   ]
  },
  {
   "cell_type": "code",
   "execution_count": 79,
   "metadata": {
    "scrolled": false
   },
   "outputs": [
    {
     "data": {
      "image/png": "[encoded data removed]",
      "text/plain": [
       "<matplotlib.figure.Figure at 0x7fefc8480cf8>"
      ]
     },
     "metadata": {},
     "output_type": "display_data"
    }
   ],
   "source": [
    "import matplotlib.mlab as mlab\n",
    "\n",
    "#GET THE HISTOGRAM WITH THIS\n",
    "tweets_cluster_plot =  list(map(lambda pair: pair[1], tweetclusterindices))\n",
    "\n",
    "# the histogram of the data\n",
    "plt.hist(tweets_cluster_plot, facecolor='purple')\n",
    "\n",
    "plt.xlabel('Clusters')\n",
    "plt.ylabel('Number tweets')\n",
    "#plt.axis([0, 10, 0, 10])\n",
    "plt.grid(True)\n",
    "\n",
    "plt.show()\n",
    "\n",
    "\n"
   ]
  }
 ],
 "metadata": {
  "kernelspec": {
   "display_name": "Python with Pixiedust (Spark 2.2)",
   "language": "python",
   "name": "pythonwithpixiedustspark22"
  },
  "language_info": {
   "codemirror_mode": {
    "name": "ipython",
    "version": 3
   },
   "file_extension": ".py",
   "mimetype": "text/x-python",
   "name": "python",
   "nbconvert_exporter": "python",
   "pygments_lexer": "ipython3",
   "version": "3.6.2"
  }
 },
 "nbformat": 4,
 "nbformat_minor": 2
}
